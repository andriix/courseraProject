{
 "cells": [
  {
   "cell_type": "code",
   "execution_count": 16,
   "outputs": [
    {
     "name": "stdout",
     "output_type": "stream",
     "text": [
      "-> Simple types:\n",
      "\t <class 'int'> <class 'float'> <class 'str'> <class 'bool'>\n",
      "-> Complex types:\n",
      "\t <class 'tuple'> <class 'list'> <class 'dict'> <class 'set'>\n",
      "+wristlocks\n",
      "1\n",
      "3\n",
      "0-1\n",
      "2-3\n",
      "28\n",
      "36\n",
      "21\n",
      "success a= 2.0\n",
      "Processing Complete\n"
     ]
    },
    {
     "data": {
      "text/plain": "<Figure size 432x288 with 1 Axes>",
      "image/png": "[encoded data removed]"
     },
     "metadata": {
      "needs_background": "light"
     },
     "output_type": "display_data"
    }
   ],
   "source": [
    "\"\"\"\n",
    "Course 'Python for Data Science, AI & Development'\n",
    "\"\"\"\n",
    "import sympy as sm\n",
    "import matplotlib.pyplot as plt\n",
    "%matplotlib inline\n",
    "\n",
    "# Simple types\n",
    "print('-> Simple types:')\n",
    "print('\\t',type(3), type(3.14),type('Ukraine'),type(True))\n",
    "\n",
    "# Complex types\n",
    "print('-> Complex types:')\n",
    "#<class 'tuple'> <class 'list'> <class 'dict'> <class 'set'>\n",
    "print('\\t',\n",
    "      type((1,2,3)), #tuple\n",
    "      type([1,2,3]), #list\n",
    "      type({'A':10,'B':20}), #dict\n",
    "      type({1,2})) #set\n",
    "\n",
    "# Branching with 'Elif' construction\n",
    "belt='purple'\n",
    "if belt=='blue' or belt=='purple':\n",
    "    print('+wristlocks')\n",
    "elif belt=='brown' or belt=='black':\n",
    "    print('+leg locks')\n",
    "elif belt=='red':\n",
    "    print('+ everything:)')\n",
    "else:\n",
    "    print('only basic stuff')\n",
    "\n",
    "# Loops with 'For' construction\n",
    "numbers=(1,2,3,4)\n",
    "N=len(numbers)\n",
    "for i in range(0,N,2):\n",
    "    print(numbers[i])\n",
    "#---\n",
    "for i, val in enumerate(numbers):\n",
    "    if i%2==0:\n",
    "        print(str(i)+'-'+str(val))\n",
    "\n",
    "# Loops with 'While' construction\n",
    "numbers=(28,36,21,31)\n",
    "iterator=0\n",
    "while not sm.isprime(numbers[iterator]):\n",
    "    print(numbers[iterator])\n",
    "    iterator= iterator + 1\n",
    "\n",
    "# Function construction\n",
    "def sayifprime(number):\n",
    "    \"\"\"\n",
    "    function for number checking\n",
    "    \"\"\"\n",
    "    isprime=sm.isprime(number)\n",
    "    if isprime:\n",
    "        phrase='it is a prime'\n",
    "    else:\n",
    "        phrase='it is NOT a prime'\n",
    "    return phrase\n",
    "\n",
    "# function with arguments as a tuple\n",
    "def printAll(*args):\n",
    "    print(\"No of arguments:\", len(args))\n",
    "    for argument in args:\n",
    "        print(argument)\n",
    "\n",
    "# function with arguments as a dictionary\n",
    "def printDictionary(**args):\n",
    "    for key in args:\n",
    "        print(key + \" : \" + args[key])\n",
    "\n",
    "# Exception Handling\n",
    "exceptionHandlerValue = 10\n",
    "try:\n",
    "    enteredValue = float(input(\"Please enter a number to divide a\"))\n",
    "    exceptionHandlerValue = exceptionHandlerValue/enteredValue\n",
    "except ZeroDivisionError:\n",
    "    print(\"The number you provided cant divide 1 because it is 0\")\n",
    "except ValueError:\n",
    "    print(\"You did not provide a number\")\n",
    "except: # bad practice. Preferably to use specific error name\n",
    "    print(\"Something went wrong\")\n",
    "else:\n",
    "    print(\"success a=\",exceptionHandlerValue)\n",
    "finally:\n",
    "    print(\"Processing Complete\")\n",
    "\n",
    "# Classes and Objects\n",
    "class Circle(object):\n",
    "    # Constructor\n",
    "    def __init__(self, radius=3, color='blue'):\n",
    "        self.radius = radius\n",
    "        self.color = color\n",
    "        # Method\n",
    "    def add_radius(self, r):\n",
    "        self.radius = self.radius + r\n",
    "        return(self.radius)\n",
    "    # Method\n",
    "    def drawCircle(self):\n",
    "        plt.gca().add_patch(plt.Circle((0, 0), radius=self.radius,\n",
    "                                       fc=self.color))\n",
    "        plt.axis('scaled')\n",
    "        plt.show()\n",
    "\n",
    "BlueCircle=Circle(radius=15)\n",
    "GreenCircle=Circle(radius=3,color='green')\n",
    "GreenCircle.drawCircle()\n",
    "#"
   ],
   "metadata": {
    "collapsed": false,
    "pycharm": {
     "name": "#%%\n"
    }
   }
  },
  {
   "cell_type": "code",
   "execution_count": 12,
   "outputs": [
    {
     "name": "stdout",
     "output_type": "stream",
     "text": [
      "Constructor: \n",
      "Error detected. Recheck your function \n",
      "freqAll: \n",
      "Test Failed\n",
      "freqOf: \n",
      "Test Failed\n"
     ]
    }
   ],
   "source": [
    "\n"
   ],
   "metadata": {
    "collapsed": false,
    "pycharm": {
     "name": "#%%\n"
    }
   }
  },
  {
   "cell_type": "markdown",
   "source": [],
   "metadata": {
    "collapsed": false
   }
  }
 ],
 "metadata": {
  "kernelspec": {
   "display_name": "Python 3",
   "language": "python",
   "name": "python3"
  },
  "language_info": {
   "codemirror_mode": {
    "name": "ipython",
    "version": 2
   },
   "file_extension": ".py",
   "mimetype": "text/x-python",
   "name": "python",
   "nbconvert_exporter": "python",
   "pygments_lexer": "ipython2",
   "version": "2.7.6"
  }
 },
 "nbformat": 4,
 "nbformat_minor": 0
}