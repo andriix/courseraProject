{
 "cells": [
  {
   "cell_type": "code",
   "execution_count": 1,
   "outputs": [
    {
     "name": "stdout",
     "output_type": "stream",
     "text": [
      "-> Simple types:\n",
      "\t <class 'int'> <class 'float'> <class 'str'> <class 'bool'>\n",
      "-> Complex types:\n",
      "\t <class 'tuple'> <class 'list'> <class 'dict'> <class 'set'>\n",
      "+wristlocks\n",
      "1\n",
      "3\n",
      "0-1\n",
      "2-3\n",
      "28\n",
      "36\n",
      "21\n",
      "success a= 5.0\n",
      "Processing Complete\n"
     ]
    }
   ],
   "source": [
    "\"\"\"\n",
    "Course 'Python for Data Science, AI & Development'\n",
    "\"\"\"\n",
    "import sympy as sm\n",
    "\n",
    "# Simple types\n",
    "print('-> Simple types:')\n",
    "print('\\t',type(3), type(3.14),type('Ukraine'),type(True))\n",
    "\n",
    "# Complex types\n",
    "print('-> Complex types:')\n",
    "print('\\t',type((1,2,3)),type([1,2,3]),type({'A':10,'B':20}),\n",
    "           type({1,2}))\n",
    "\n",
    "# Branching with 'Elif' construction\n",
    "belt='purple'\n",
    "if belt=='blue' or belt=='purple':\n",
    "    print('+wristlocks')\n",
    "elif belt=='brown' or belt=='black':\n",
    "    print('+leg locks')\n",
    "elif belt=='red':\n",
    "    print('+ everything:)')\n",
    "else:\n",
    "    print('only basic stuff')\n",
    "\n",
    "# Loops with 'For' construction\n",
    "numbers=(1,2,3,4)\n",
    "N=len(numbers)\n",
    "for i in range(0,N,2):\n",
    "    print(numbers[i])\n",
    "#---\n",
    "for i, val in enumerate(numbers):\n",
    "    if i%2==0:\n",
    "        print(str(i)+'-'+str(val))\n",
    "\n",
    "# Loops with 'While' construction\n",
    "numbers=(28,36,21,31)\n",
    "iterator=0\n",
    "while not sm.isprime(numbers[iterator]):\n",
    "    print(numbers[iterator])\n",
    "    iterator= iterator + 1\n",
    "\n",
    "# Function construction\n",
    "def sayifprime(number):\n",
    "    \"\"\"\n",
    "    function for number checking\n",
    "    \"\"\"\n",
    "    isprime=sm.isprime(number)\n",
    "    if isprime:\n",
    "        phrase='it is a prime'\n",
    "    else:\n",
    "        phrase='it is NOT a prime'\n",
    "    return phrase\n",
    "\n",
    "# function with arguments as a tuple\n",
    "def printAll(*args):\n",
    "    print(\"No of arguments:\", len(args))\n",
    "    for argument in args:\n",
    "        print(argument)\n",
    "\n",
    "# function with arguments as a dictionary\n",
    "def printDictionary(**args):\n",
    "    for key in args:\n",
    "        print(key + \" : \" + args[key])\n",
    "\n",
    "# Exception Handling\n",
    "exceptionHandlerValue = 10\n",
    "try:\n",
    "    enteredValue = float(input(\"Please enter a number to divide a\"))\n",
    "    exceptionHandlerValue = exceptionHandlerValue/enteredValue\n",
    "except ZeroDivisionError:\n",
    "    print(\"The number you provided cant divide 1 because it is 0\")\n",
    "except ValueError:\n",
    "    print(\"You did not provide a number\")\n",
    "except:\n",
    "    print(\"Something went wrong\")\n",
    "else:\n",
    "    print(\"success a=\",exceptionHandlerValue)\n",
    "finally:\n",
    "    print(\"Processing Complete\")\n",
    "\n"
   ],
   "metadata": {
    "collapsed": false,
    "pycharm": {
     "name": "#%%\n"
    }
   }
  },
  {
   "cell_type": "code",
   "execution_count": 4,
   "outputs": [
    {
     "name": "stdout",
     "output_type": "stream",
     "text": [
      "hello, my computer\n"
     ]
    }
   ],
   "source": [
    "print('hello, my computer')"
   ],
   "metadata": {
    "collapsed": false,
    "pycharm": {
     "name": "#%%\n"
    }
   }
  },
  {
   "cell_type": "markdown",
   "source": [],
   "metadata": {
    "collapsed": false
   }
  }
 ],
 "metadata": {
  "kernelspec": {
   "display_name": "Python 3",
   "language": "python",
   "name": "python3"
  },
  "language_info": {
   "codemirror_mode": {
    "name": "ipython",
    "version": 2
   },
   "file_extension": ".py",
   "mimetype": "text/x-python",
   "name": "python",
   "nbconvert_exporter": "python",
   "pygments_lexer": "ipython2",
   "version": "2.7.6"
  }
 },
 "nbformat": 4,
 "nbformat_minor": 0
}